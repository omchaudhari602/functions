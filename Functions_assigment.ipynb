{
  "nbformat": 4,
  "nbformat_minor": 0,
  "metadata": {
    "colab": {
      "provenance": []
    },
    "kernelspec": {
      "name": "python3",
      "display_name": "Python 3"
    },
    "language_info": {
      "name": "python"
    }
  },
  "cells": [
    {
      "cell_type": "markdown",
      "source": [
        "Q 1. : What is the difference between a function and a method in Python?\n",
        "\n",
        "Ans : A function is a structured, reusable code block utilized for carrying out a specific task. Functions facilitate the creation of modular code, simplifying maintenance and reusability.\n",
        "\n",
        "ex:-def greet(name):\n",
        "\n",
        "  return f\"Hello, {name}!\"\n",
        "\n",
        "print(greet(\"Alice\"))\n",
        "\n",
        "\n",
        "Methods :- A method is a function that is associated with an object and is defined inside a class.\n",
        "\n",
        "ex:- class Person:\n",
        "\n",
        "  def greet(self, name):\n",
        "\n",
        "  return f\"Hello, {name}!\"\n",
        "\n",
        "p = Person()\n",
        "print(p.greet(\"Bob\"))\n",
        "\n",
        "---\n",
        "---\n",
        "\n",
        "Q.2  Explain the concept of function arguments and parameters in Python.\n",
        "\n",
        "Ans:- Parameters are the placeholders in a function definition.\n",
        "\n",
        "Arguments are the actual values passed to the function when it is called.\n",
        "\n",
        "\n",
        "\n",
        "\n"
      ],
      "metadata": {
        "id": "3nBJb6Ug3svf"
      }
    },
    {
      "cell_type": "code",
      "source": [
        "# Ex:-\n",
        "def greet(name):      # 'name' is a parameter\n",
        "    print(\"Hello\", name)\n",
        "\n",
        "greet(\"Om\")         # \"Alice\" is an argument\n"
      ],
      "metadata": {
        "colab": {
          "base_uri": "https://localhost:8080/"
        },
        "id": "Z82vQe9f4grM",
        "outputId": "3b00c4dd-11c6-4a18-ca1b-0d31514eb36f"
      },
      "execution_count": null,
      "outputs": [
        {
          "output_type": "stream",
          "name": "stdout",
          "text": [
            "Hello Om\n"
          ]
        }
      ]
    },
    {
      "cell_type": "markdown",
      "source": [
        "\n",
        "\n",
        "---\n",
        "\n",
        "\n",
        "\n",
        "---\n",
        "Q3. What are the different ways to define and call a function in Python?\n",
        "\n",
        "Ans:- In Python, a function is a reusable block of code that performs a specific task. Functions are defined using the def keyword followed by a name and parameters. You can define functions with positional, default, keyword, or variable-length arguments (*args, **kwargs). Python also supports lambda functions, which are small anonymous functions used for simple tasks. Recursive functions are those that call themselves to solve problems step by step. Functions improve code reusability, organization, and readability.\n",
        "\n"
      ],
      "metadata": {
        "id": "jMdfm6GH4qBC"
      }
    },
    {
      "cell_type": "code",
      "execution_count": null,
      "metadata": {
        "colab": {
          "base_uri": "https://localhost:8080/"
        },
        "id": "b7BH8r-U3aIc",
        "outputId": "ff6bcbf8-d433-46fb-fb6c-fe037bcc75e0"
      },
      "outputs": [
        {
          "output_type": "stream",
          "name": "stdout",
          "text": [
            "16\n"
          ]
        }
      ],
      "source": [
        "#Example lambda function\n",
        "square = lambda x: x * x\n",
        "print(square(4))  #\n"
      ]
    },
    {
      "cell_type": "markdown",
      "source": [
        "---\n",
        "---\n",
        "Q4. What is the purpose of the `return` statement in a Python function?\n",
        "\n",
        "Ans :- The return statement in a Python function is used to send a value back to the place where the function was called. It ends the function’s execution and passes the result to the caller.\n",
        "\n"
      ],
      "metadata": {
        "id": "JD3qKNxf3rqd"
      }
    },
    {
      "cell_type": "code",
      "source": [
        "#ex:\n",
        "def add(a, b):\n",
        "    return a + b\n",
        "\n",
        "result = add(3, 5)\n",
        "print(result)\n"
      ],
      "metadata": {
        "colab": {
          "base_uri": "https://localhost:8080/"
        },
        "id": "wvjpZGa45nT1",
        "outputId": "9d276224-78d3-4c88-bae3-569b8274a983"
      },
      "execution_count": null,
      "outputs": [
        {
          "output_type": "stream",
          "name": "stdout",
          "text": [
            "8\n"
          ]
        }
      ]
    },
    {
      "cell_type": "markdown",
      "source": [
        "---\n",
        "---\n",
        "Q5. What are iterators in Python and how do they differ from iterables?\n",
        "\n",
        "Ans :- An iterator is an object that allows traversal through a countable number of values. It is used to iterate over iterable objects like lists, tuples, sets, etc.\n",
        "\n",
        "Using an iterator-\n",
        "\n",
        "iter() function is used to create an iterator containing an iterable object.\n",
        "\n",
        "next() function is used to call the next element in the iterable object.\n",
        "After the iterable object is completed, to use them again reassign them to the same object."
      ],
      "metadata": {
        "id": "YBKOnrtY5sqm"
      }
    },
    {
      "cell_type": "code",
      "source": [
        "#ex\n",
        "numbers = [10, 20, 30]\n",
        "it = iter(numbers)     # Convert iterable to iterator\n",
        "\n",
        "print(next(it))\n",
        "print(next(it))\n",
        "print(next(it))\n",
        "\n"
      ],
      "metadata": {
        "colab": {
          "base_uri": "https://localhost:8080/"
        },
        "id": "5g2rHq9u6E79",
        "outputId": "7e224369-1abb-49ee-abdc-577d28a0c6c4"
      },
      "execution_count": null,
      "outputs": [
        {
          "output_type": "stream",
          "name": "stdout",
          "text": [
            "10\n",
            "20\n",
            "30\n"
          ]
        }
      ]
    },
    {
      "cell_type": "markdown",
      "source": [
        "\n",
        "\n",
        "---\n",
        "\n",
        "---\n",
        "\n",
        "Q6.Explain the concept of generators in Python and how they are defined.\n",
        "\n",
        "Ans:- A generator is a special type of iterator in Python that yields values one at a time using the yield keyword, instead of returning all at once like a normal function.\n",
        "\n",
        "\n",
        "\n"
      ],
      "metadata": {
        "id": "D7txnfW36YIB"
      }
    },
    {
      "cell_type": "code",
      "source": [
        "#ex;\n",
        "def count_up_to(n):\n",
        "    i = 1\n",
        "    while i <= n:\n",
        "        yield i      # pause and return the value\n",
        "        i += 1\n",
        "gen = count_up_to(3)\n",
        "print(next(gen))\n",
        "print(next(gen))\n",
        "print(next(gen))\n"
      ],
      "metadata": {
        "colab": {
          "base_uri": "https://localhost:8080/"
        },
        "id": "tJNMQUN86Kxb",
        "outputId": "3195d41a-29be-4c92-fe1e-300dd42a15e2"
      },
      "execution_count": null,
      "outputs": [
        {
          "output_type": "stream",
          "name": "stdout",
          "text": [
            "1\n",
            "2\n",
            "3\n"
          ]
        }
      ]
    },
    {
      "cell_type": "markdown",
      "source": [
        "\n",
        "\n",
        "---\n",
        "\n",
        "---\n",
        "\n",
        "\n",
        "Q7. What are the advantages of using generators over regular functions?\n",
        "\n",
        "Ans: Save Memory:\n",
        "Generators produce one value at a time using yield, so they don't store the entire result in memory like regular functions.\n",
        "\n",
        "Faster Start Time:\n",
        "Since values are generated lazily, generators can start giving results immediately without waiting to compute everything.\n",
        "\n",
        "Handle Infinite Data:\n",
        "You can generate endless data (like an infinite sequence) without crashing the program.\n",
        "\n",
        "Simpler Code for Iteration:\n",
        "Generators make it easy to write custom iterators without using classes or maintaining state manually.\n",
        "\n",
        "Improved Performance:\n",
        "Useful when working with large files, data streams, or APIs, as they reduce memory and processing time.\n",
        "\n",
        "---\n",
        "---\n",
        "\n",
        "Q8. What is a lambda function in Python and when is it typically used?\n",
        "\n",
        "Ans: A lambda function is a small anonymous function defined using the lambda keyword. It can take any number of arguments but can only have one expression (no statements or multiple lines)."
      ],
      "metadata": {
        "id": "A66pXc0j7DcC"
      }
    },
    {
      "cell_type": "code",
      "source": [
        "#example\n",
        "sq = lambda x: x**2\n",
        "sq(5)"
      ],
      "metadata": {
        "colab": {
          "base_uri": "https://localhost:8080/"
        },
        "id": "Kj_8Emc570PL",
        "outputId": "07b4c33a-f1fd-4863-9f39-a792747a297e"
      },
      "execution_count": null,
      "outputs": [
        {
          "output_type": "execute_result",
          "data": {
            "text/plain": [
              "25"
            ]
          },
          "metadata": {},
          "execution_count": 12
        }
      ]
    },
    {
      "cell_type": "markdown",
      "source": [
        "\n",
        "\n",
        "---\n",
        "\n",
        "\n",
        "\n",
        "---\n",
        "Q9. Explain the purpose and usage of the `map()` function in Python.\n",
        "\n",
        "ans: The map() function is used to apply a function to every item in an iterable (like a list or tuple) and return a new map object (which is an iterator) with the results.\n",
        "\n",
        "\n"
      ],
      "metadata": {
        "id": "fHJmFN478K5F"
      }
    },
    {
      "cell_type": "code",
      "source": [
        "#ex\n",
        "nums = [1, 2, 3, 4]\n",
        "squared = map(lambda x: x * x, nums)\n",
        "print(list(squared))\n"
      ],
      "metadata": {
        "colab": {
          "base_uri": "https://localhost:8080/"
        },
        "id": "_CPUjMia8FZD",
        "outputId": "66a6e14b-a850-45e5-a28a-53fcdc4db7a5"
      },
      "execution_count": null,
      "outputs": [
        {
          "output_type": "stream",
          "name": "stdout",
          "text": [
            "[1, 4, 9, 16]\n"
          ]
        }
      ]
    },
    {
      "cell_type": "markdown",
      "source": [
        "\n",
        "\n",
        "---\n",
        "\n",
        "\n",
        "\n",
        "---\n",
        "\n",
        "Q10.  What is the difference between `map()`, `reduce()`, and `filter()` functions in Python?\n",
        "\n",
        "Ans :- 1 Map():-Purpose: Applies a function to each item in an iterable.\n",
        "\n",
        "Returns: A new iterable (map object) with the results.\n",
        "\n",
        "2. reduce() :-Purpose: Repeatedly applies a function to pair of items, reducing the iterable to a single value.\n",
        "\n",
        "Returns: A single result (not an iterable)..\n",
        "\n",
        "3. filter() :- Purpose: Filters items based on a condition (function returns True/False).\n",
        "\n",
        "Returns: A new iterable with only items that passed the test."
      ],
      "metadata": {
        "id": "lga06MmA8gGE"
      }
    },
    {
      "cell_type": "code",
      "source": [
        "#ex : map()\n",
        "nums = [1, 2, 3, 4]\n",
        "squared = map(lambda x: x * x, nums)\n",
        "print(list(squared))\n"
      ],
      "metadata": {
        "colab": {
          "base_uri": "https://localhost:8080/"
        },
        "id": "VflUoLkT8f0w",
        "outputId": "cf363403-d81d-4cbf-fa43-9a143eecbd01"
      },
      "execution_count": null,
      "outputs": [
        {
          "output_type": "stream",
          "name": "stdout",
          "text": [
            "[1, 4, 9, 16]\n"
          ]
        }
      ]
    },
    {
      "cell_type": "code",
      "source": [
        "#Reduce()\n",
        "from functools import reduce\n",
        "\n",
        "nums = [1, 2, 3, 4]\n",
        "total = reduce(lambda x, y: x + y, nums)\n",
        "print(total)\n"
      ],
      "metadata": {
        "colab": {
          "base_uri": "https://localhost:8080/"
        },
        "id": "ON1GwWSR8d1G",
        "outputId": "70ab9327-fae0-4ced-cbb3-04d9920b1945"
      },
      "execution_count": null,
      "outputs": [
        {
          "output_type": "stream",
          "name": "stdout",
          "text": [
            "10\n"
          ]
        }
      ]
    },
    {
      "cell_type": "code",
      "source": [
        "#filter()\n",
        "nums = [1, 2, 3, 4]\n",
        "evens = filter(lambda x: x % 2 == 0, nums)\n",
        "print(list(evens))  # [2, 4]\n"
      ],
      "metadata": {
        "colab": {
          "base_uri": "https://localhost:8080/"
        },
        "id": "smGVAXuV9lHb",
        "outputId": "e9ac9f67-fd9b-445a-eb46-e9fd75234ab4"
      },
      "execution_count": null,
      "outputs": [
        {
          "output_type": "stream",
          "name": "stdout",
          "text": [
            "[2, 4]\n"
          ]
        }
      ]
    },
    {
      "cell_type": "markdown",
      "source": [
        "Q.11. Using pen & Paper write the internal mechanism for sum operation using  reduce function on this given\n",
        "list:[47,11,42,13].\n",
        "\n",
        "Ans :- https://drive.google.com/file/d/16VMPoPiir7SaIPo6H656DzBdCvr3y0KE/view?usp=sharing\n"
      ],
      "metadata": {
        "id": "LC4n4J7dBRx1"
      }
    },
    {
      "cell_type": "markdown",
      "source": [
        "\n",
        "\n",
        "---\n",
        "**End**\n",
        "\n",
        "\n",
        "---\n",
        "\n",
        "\n"
      ],
      "metadata": {
        "id": "iaBylkyQDOSX"
      }
    },
    {
      "cell_type": "markdown",
      "source": [
        "Practical Questions:\n",
        "\n",
        "---\n",
        "\n",
        "\n",
        "\n",
        "---\n",
        "\n",
        "Q1.Write a Python function that takes a list of numbers as input and returns the sum of all even numbers in\n",
        "the list.\n"
      ],
      "metadata": {
        "id": "enCVoTQZDU2B"
      }
    },
    {
      "cell_type": "code",
      "source": [
        "def sum_of_evens(numbers):\n",
        "    total = 0\n",
        "    for num in numbers:\n",
        "        if num % 2 == 0:\n",
        "            total += num\n",
        "    return total\n",
        "\n",
        "\n"
      ],
      "metadata": {
        "id": "NJOZAvG--vG3"
      },
      "execution_count": 26,
      "outputs": []
    },
    {
      "cell_type": "code",
      "source": [
        "my_list = [1, 2, 3, 4, 5, 6, 7, 8, 9, 10]\n",
        "result = sum_of_evens(my_list)\n",
        "print(result)"
      ],
      "metadata": {
        "colab": {
          "base_uri": "https://localhost:8080/"
        },
        "id": "kLfC_0WVEehO",
        "outputId": "21956b49-994c-4be8-e24f-88c8b5813181"
      },
      "execution_count": 27,
      "outputs": [
        {
          "output_type": "stream",
          "name": "stdout",
          "text": [
            "30\n"
          ]
        }
      ]
    },
    {
      "cell_type": "markdown",
      "source": [
        "\n",
        "\n",
        "---\n",
        "\n",
        "\n",
        "\n",
        "---\n",
        "\n",
        "Q2.Create a Python function that accepts a string and returns the reverse of that string.\n",
        "\n"
      ],
      "metadata": {
        "id": "VHGCD6sjEkWd"
      }
    },
    {
      "cell_type": "code",
      "source": [
        "def reverse_string(input_string):\n",
        "    reversed_string = input_string[::-1]\n",
        "    return reversed_string"
      ],
      "metadata": {
        "id": "YYQDy61OEq7i"
      },
      "execution_count": 28,
      "outputs": []
    },
    {
      "cell_type": "code",
      "source": [
        "my_str = \"Hello, World!\"\n",
        "result = reverse_string(my_str)\n",
        "print(result)"
      ],
      "metadata": {
        "colab": {
          "base_uri": "https://localhost:8080/"
        },
        "id": "3HJGZUaWE2cY",
        "outputId": "7d10e1d1-0220-4f48-acbb-ad66bf4bae75"
      },
      "execution_count": 29,
      "outputs": [
        {
          "output_type": "stream",
          "name": "stdout",
          "text": [
            "!dlroW ,olleH\n"
          ]
        }
      ]
    },
    {
      "cell_type": "markdown",
      "source": [
        "\n",
        "\n",
        "---\n",
        "\n",
        "\n",
        "\n",
        "---\n",
        "Q3. Implement a Python function that takes a list of integers and returns a new list containing the squares of\n",
        "each number.\n",
        "\n"
      ],
      "metadata": {
        "id": "55ffoNJdDHjx"
      }
    },
    {
      "cell_type": "code",
      "source": [
        "def square_numbers(numbers):\n",
        "    squared_numbers = [num ** 2 for num in numbers]\n",
        "    return squared_numbers"
      ],
      "metadata": {
        "id": "k4I24aGlFCsR"
      },
      "execution_count": 30,
      "outputs": []
    },
    {
      "cell_type": "code",
      "source": [
        "integer = [1, 2, 3, 4, 5]\n",
        "result = square_numbers(integer)\n",
        "print(result)"
      ],
      "metadata": {
        "colab": {
          "base_uri": "https://localhost:8080/"
        },
        "id": "tnThOzLfFGBj",
        "outputId": "6dc0aaf8-2e59-4d49-946e-b23942cf26e1"
      },
      "execution_count": 31,
      "outputs": [
        {
          "output_type": "stream",
          "name": "stdout",
          "text": [
            "[1, 4, 9, 16, 25]\n"
          ]
        }
      ]
    },
    {
      "cell_type": "markdown",
      "source": [
        "\n",
        "\n",
        "---\n",
        "\n",
        "\n",
        "\n",
        "---\n",
        "Q4 Write a Python function that checks if a given number is prime or not from 1 to 200\n",
        "\n"
      ],
      "metadata": {
        "id": "uptnNmsDFR2G"
      }
    },
    {
      "cell_type": "code",
      "source": [
        "def is_prime(number):\n",
        "    if number <= 1:\n",
        "        return False\n",
        "    if number <= 3:\n",
        "        return True\n",
        "    if number % 2 == 0 or number % 3 == 0:\n",
        "        return False\n"
      ],
      "metadata": {
        "id": "K07soRn5FKPR"
      },
      "execution_count": 32,
      "outputs": []
    },
    {
      "cell_type": "code",
      "source": [
        "no = 20\n",
        "result = is_prime(no)\n",
        "print(result)"
      ],
      "metadata": {
        "colab": {
          "base_uri": "https://localhost:8080/"
        },
        "id": "Y3ldwCziFZyL",
        "outputId": "9609701e-22b6-46a7-a368-6d4502962000"
      },
      "execution_count": 35,
      "outputs": [
        {
          "output_type": "stream",
          "name": "stdout",
          "text": [
            "False\n"
          ]
        }
      ]
    },
    {
      "cell_type": "markdown",
      "source": [
        "\n",
        "\n",
        "---\n",
        "\n",
        "\n",
        "\n",
        "---\n",
        "Q5. Create an iterator class in Python that generates the Fibonacci sequence up to a specified number of\n",
        "terms.\n"
      ],
      "metadata": {
        "id": "mlgLMmhzFnNI"
      }
    },
    {
      "cell_type": "code",
      "source": [
        "\n",
        "class FibonacciIterator:\n",
        "    def __init__(self, n):\n",
        "        self.n = n\n",
        "        self.a, self.b = 0, 1\n",
        "        self.count = 0\n",
        "\n",
        "    def __iter__(self):\n",
        "        return self\n",
        "\n",
        "    def __next__(self):\n",
        "        if self.count < self.n:\n",
        "            result = self.a\n",
        "            self.a, self.b = self.b, self.a + self.b\n",
        "            self.count += 1\n",
        "            return result\n",
        "        else:\n",
        "            raise StopIteration"
      ],
      "metadata": {
        "id": "JuAt-j3EFb5s"
      },
      "execution_count": 39,
      "outputs": []
    },
    {
      "cell_type": "code",
      "source": [
        "fib = FibonacciIterator(5)\n",
        "for num in fib:\n",
        "    print(num)"
      ],
      "metadata": {
        "colab": {
          "base_uri": "https://localhost:8080/"
        },
        "id": "xaoiZbzJFxGM",
        "outputId": "5d3bbf3a-4df6-401c-de67-0633e779e76e"
      },
      "execution_count": 40,
      "outputs": [
        {
          "output_type": "stream",
          "name": "stdout",
          "text": [
            "0\n",
            "1\n",
            "1\n",
            "2\n",
            "3\n"
          ]
        }
      ]
    },
    {
      "cell_type": "markdown",
      "source": [
        "\n",
        "\n",
        "---\n",
        "\n",
        "\n",
        "\n",
        "---\n",
        "Q6. Write a generator function in Python that yields the powers of 2 up to a given exponent.\n",
        "\n"
      ],
      "metadata": {
        "id": "xd5mbB-CGG_z"
      }
    },
    {
      "cell_type": "code",
      "source": [
        "\n",
        "def power_of_two(n):\n",
        "    power = 0\n",
        "    while power <= n:\n",
        "        yield 2 ** power\n",
        "        power += 1\n"
      ],
      "metadata": {
        "id": "xtrIIowQFzOs"
      },
      "execution_count": 41,
      "outputs": []
    },
    {
      "cell_type": "code",
      "source": [
        "p = power_of_two(5)\n",
        "for num in p:\n",
        "    print(num)"
      ],
      "metadata": {
        "colab": {
          "base_uri": "https://localhost:8080/"
        },
        "id": "hnR4YJ-HGOv1",
        "outputId": "43dea536-5ae8-404c-9171-fb399dbcf1d6"
      },
      "execution_count": 45,
      "outputs": [
        {
          "output_type": "stream",
          "name": "stdout",
          "text": [
            "1\n",
            "2\n",
            "4\n",
            "8\n",
            "16\n",
            "32\n"
          ]
        }
      ]
    },
    {
      "cell_type": "markdown",
      "source": [
        "\n",
        "\n",
        "---\n",
        "\n",
        "\n",
        "\n",
        "---\n",
        "Q7.  Implement a generator function that reads a file line by line and yields each line as a string.\n",
        "\n"
      ],
      "metadata": {
        "id": "3J6_8zLPGdLh"
      }
    },
    {
      "cell_type": "code",
      "source": [
        "# Im plement a generator function that reads a file line by line and yields each line as a string.\n",
        "\n",
        "def read_file_lines(file_path):\n",
        "    with open(file_path, 'r') as file:\n",
        "        for line in file:\n",
        "            yield line"
      ],
      "metadata": {
        "id": "7zhIXClrGQqX"
      },
      "execution_count": 46,
      "outputs": []
    },
    {
      "cell_type": "code",
      "source": [
        "for line in read_file_lines(\"example.txt\"):\n",
        "    print(line)\n"
      ],
      "metadata": {
        "colab": {
          "base_uri": "https://localhost:8080/"
        },
        "id": "SED0CJQ_GkRO",
        "outputId": "9da15db4-7fa1-4f97-a1e4-b36b96ed13d6"
      },
      "execution_count": 51,
      "outputs": [
        {
          "output_type": "stream",
          "name": "stdout",
          "text": [
            "This is the first line.\n",
            "\n",
            "This is the second line.\n",
            "\n",
            "This is the third line.\n",
            "\n"
          ]
        }
      ]
    },
    {
      "cell_type": "markdown",
      "source": [
        "\n",
        "\n",
        "---\n",
        "\n",
        "\n",
        "\n",
        "---\n",
        "Q8.  Use a lambda function in Python to sort a list of tuples based on the second element of each tuple\n"
      ],
      "metadata": {
        "id": "K5-anixbHM6S"
      }
    },
    {
      "cell_type": "code",
      "source": [
        "# Use a lambda function in Python to sort a list of tuples based on the second element of each tuple\n",
        "\n",
        "data = [(1, 5), (3, 2), (2, 8), (5, 1)]\n",
        "sorted_data = sorted(data, key=lambda x: x[1])\n",
        "print(sorted_data)"
      ],
      "metadata": {
        "colab": {
          "base_uri": "https://localhost:8080/"
        },
        "id": "3n7EUzVoGm2y",
        "outputId": "91809caf-b534-4ec3-b618-d0c8ef314502"
      },
      "execution_count": 52,
      "outputs": [
        {
          "output_type": "stream",
          "name": "stdout",
          "text": [
            "[(5, 1), (3, 2), (1, 5), (2, 8)]\n"
          ]
        }
      ]
    },
    {
      "cell_type": "markdown",
      "source": [
        "\n",
        "\n",
        "---\n",
        "\n",
        "\n",
        "\n",
        "---\n",
        "Q9.Write a Python program that uses `map()` to convert a list of temperatures from Celsius to Fahrenheit.\n"
      ],
      "metadata": {
        "id": "z1YZNhDxH54_"
      }
    },
    {
      "cell_type": "code",
      "metadata": {
        "colab": {
          "base_uri": "https://localhost:8080/"
        },
        "id": "e006a154",
        "outputId": "a46ab129-62dd-4940-cc87-d5c86aea8ecb"
      },
      "source": [
        "celsius_temps = [0, 10, 20, 30, 40]\n",
        "fahrenheit_temps = list(map(lambda c: (c * 9/5) + 32, celsius_temps))\n",
        "\n",
        "print(\"Celsius:\", celsius_temps)\n",
        "print(\"Fahrenheit:\", fahrenheit_temps)\n"
      ],
      "execution_count": 53,
      "outputs": [
        {
          "output_type": "stream",
          "name": "stdout",
          "text": [
            "Celsius: [0, 10, 20, 30, 40]\n",
            "Fahrenheit: [32.0, 50.0, 68.0, 86.0, 104.0]\n"
          ]
        }
      ]
    },
    {
      "cell_type": "markdown",
      "source": [
        "\n",
        "\n",
        "---\n",
        "\n",
        "\n",
        "\n",
        "---\n",
        "Q10. Create a Python program that uses `filter()` to remove all the vowels from a given string.\n",
        "\n",
        "\n"
      ],
      "metadata": {
        "id": "YD2LXF_4H_Sl"
      }
    },
    {
      "cell_type": "code",
      "source": [
        "def remove_vowels(s):\n",
        "    vowels = 'aeiouAEIOU'\n",
        "    return ''.join(filter(lambda char: char not in vowels, s))\n",
        "\n",
        "input_string = \"Hello World\"\n",
        "result = remove_vowels(input_string)\n",
        "\n",
        "print(\"Original string:\", input_string)\n",
        "print(\"Without vowels :\", result)\n"
      ],
      "metadata": {
        "colab": {
          "base_uri": "https://localhost:8080/"
        },
        "id": "1-ep1Su-H96c",
        "outputId": "e21c6c20-d05c-4f41-eafb-d5856afda377"
      },
      "execution_count": 55,
      "outputs": [
        {
          "output_type": "stream",
          "name": "stdout",
          "text": [
            "Original string: Hello World\n",
            "Without vowels : Hll Wrld\n"
          ]
        }
      ]
    },
    {
      "cell_type": "markdown",
      "source": [
        "\n",
        "\n",
        "\n",
        "---\n",
        "\n",
        "\n",
        "---\n",
        "\n",
        "Q11Write a Python program, which returns a list with 2-tuples. Each tuple consists of the order number and the\n",
        "product of the price per item and the quantity. The product should be increased by 10,- € if the value of the\n",
        "order is smaller than 100,00 €."
      ],
      "metadata": {
        "id": "7VeSD1CmIda1"
      }
    },
    {
      "cell_type": "code",
      "source": [
        "orders = [\n",
        "    [34587, \"Learning Python, Mark Lutz\", 4, 40.95],\n",
        "    [98762, \"Programming Python, Mark Lutz\", 5, 56.80],\n",
        "    [77226, \"Head First Python, Paul Barry\", 3, 32.95],\n",
        "    [88112, \"Einführung in Python3, Bernd Klein\", 3, 24.99]\n",
        "]\n",
        "\n",
        "# Use lambda and map to process the list\n",
        "invoice = list(map(\n",
        "    lambda order: (\n",
        "        order[0],\n",
        "        order[2] * order[3] + 10 if order[2] * order[3] < 100 else order[2] * order[3]\n",
        "    ),\n",
        "    orders\n",
        "))\n",
        "\n",
        "# Print the result\n",
        "print(invoice)\n"
      ],
      "metadata": {
        "colab": {
          "base_uri": "https://localhost:8080/"
        },
        "id": "ySE78MsqIKMJ",
        "outputId": "fdc23ac0-bbcd-47b5-a363-b95ab9f3b5d2"
      },
      "execution_count": 56,
      "outputs": [
        {
          "output_type": "stream",
          "name": "stdout",
          "text": [
            "[(34587, 163.8), (98762, 284.0), (77226, 108.85000000000001), (88112, 84.97)]\n"
          ]
        }
      ]
    },
    {
      "cell_type": "markdown",
      "source": [
        "**Endd.....**\n",
        "\n",
        "---\n",
        "\n",
        "\n",
        "\n",
        "---\n",
        "\n",
        "\n",
        "\n",
        "---\n",
        "\n"
      ],
      "metadata": {
        "id": "EgBabdznJH6t"
      }
    },
    {
      "cell_type": "code",
      "source": [],
      "metadata": {
        "id": "yVmOKgukI_VN"
      },
      "execution_count": null,
      "outputs": []
    }
  ]
}